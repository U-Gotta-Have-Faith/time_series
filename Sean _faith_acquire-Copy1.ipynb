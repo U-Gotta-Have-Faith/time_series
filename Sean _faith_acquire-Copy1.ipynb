{
 "cells": [
  {
   "cell_type": "code",
   "execution_count": 1,
   "metadata": {},
   "outputs": [],
   "source": [
    "import pandas as pd\n",
    "from datetime import timedelta, datetime\n",
    "import numpy as np\n",
    "\n",
    "import matplotlib.pyplot as plt\n",
    "%matplotlib inline\n",
    "import seaborn as sns\n",
    "\n",
    "from statsmodels.tsa.filters.hp_filter import hpfilter\n",
    "from statsmodels.tsa.seasonal import seasonal_decompose\n",
    "from pylab import rcParams\n",
    "\n",
    "from sklearn import metrics\n",
    "import math\n",
    "\n",
    "#ignore warnings\n",
    "import warnings\n",
    "warnings.filterwarnings(\"ignore\")\n",
    "\n",
    "from pipeline import evaluate, plot_and_eval"
   ]
  },
  {
   "cell_type": "markdown",
   "metadata": {},
   "source": [
    "# Goals"
   ]
  },
  {
   "cell_type": "code",
   "execution_count": null,
   "metadata": {},
   "outputs": [],
   "source": []
  },
  {
   "cell_type": "markdown",
   "metadata": {},
   "source": [
    "# Takeaways"
   ]
  },
  {
   "cell_type": "code",
   "execution_count": null,
   "metadata": {},
   "outputs": [],
   "source": []
  },
  {
   "cell_type": "markdown",
   "metadata": {},
   "source": [
    "# Plan"
   ]
  },
  {
   "cell_type": "code",
   "execution_count": null,
   "metadata": {},
   "outputs": [],
   "source": []
  },
  {
   "cell_type": "markdown",
   "metadata": {},
   "source": [
    "# Acquire\n",
    "\n",
    "- read in master .csv file of original 8 .csv files.\n",
    "\n",
    "- read in 225 rows and 9 columns.\n",
    "\n",
    "- read in file with 'Date' column as DatetimeIndex."
   ]
  },
  {
   "cell_type": "code",
   "execution_count": 2,
   "metadata": {},
   "outputs": [],
   "source": [
    "df = pd.read_csv('fitbit_master.csv', index_col='Date', parse_dates=True)"
   ]
  },
  {
   "cell_type": "code",
   "execution_count": 3,
   "metadata": {},
   "outputs": [
    {
     "data": {
      "text/plain": [
       "(225, 9)"
      ]
     },
     "execution_count": 3,
     "metadata": {},
     "output_type": "execute_result"
    }
   ],
   "source": [
    "df.shape"
   ]
  },
  {
   "cell_type": "markdown",
   "metadata": {},
   "source": [
    "# Prepare"
   ]
  },
  {
   "cell_type": "code",
   "execution_count": 4,
   "metadata": {},
   "outputs": [
    {
     "name": "stdout",
     "output_type": "stream",
     "text": [
      "<class 'pandas.core.frame.DataFrame'>\n",
      "DatetimeIndex: 225 entries, 2018-04-26 to 2018-12-06\n",
      "Data columns (total 9 columns):\n",
      "Calories Burned           225 non-null int64\n",
      "Steps                     225 non-null int64\n",
      "Distance                  225 non-null float64\n",
      "Floors                    225 non-null int64\n",
      "Minutes Sedentary         225 non-null int64\n",
      "Minutes Lightly Active    225 non-null int64\n",
      "Minutes Fairly Active     225 non-null int64\n",
      "Minutes Very Active       225 non-null int64\n",
      "Activity Calories         225 non-null int64\n",
      "dtypes: float64(1), int64(8)\n",
      "memory usage: 17.6 KB\n"
     ]
    }
   ],
   "source": [
    "df.info()"
   ]
  },
  {
   "cell_type": "markdown",
   "metadata": {},
   "source": [
    "## Resample by Day by Sum"
   ]
  },
  {
   "cell_type": "code",
   "execution_count": 5,
   "metadata": {},
   "outputs": [],
   "source": [
    "df = df.resample('D').sum()"
   ]
  },
  {
   "cell_type": "markdown",
   "metadata": {},
   "source": [
    "## Check Latest Date\n",
    "\n",
    "- 2018-12-06\n",
    "\n",
    "- projection will be two weeks out from this date"
   ]
  },
  {
   "cell_type": "code",
   "execution_count": 6,
   "metadata": {},
   "outputs": [
    {
     "data": {
      "text/plain": [
       "Timestamp('2018-12-06 00:00:00')"
      ]
     },
     "execution_count": 6,
     "metadata": {},
     "output_type": "execute_result"
    }
   ],
   "source": [
    "df.index.max()"
   ]
  },
  {
   "cell_type": "code",
   "execution_count": 7,
   "metadata": {},
   "outputs": [
    {
     "data": {
      "text/plain": [
       "Timestamp('2018-04-26 00:00:00')"
      ]
     },
     "execution_count": 7,
     "metadata": {},
     "output_type": "execute_result"
    }
   ],
   "source": [
    "df.index.min()"
   ]
  },
  {
   "cell_type": "markdown",
   "metadata": {},
   "source": [
    "## Rename Columns"
   ]
  },
  {
   "cell_type": "code",
   "execution_count": 8,
   "metadata": {},
   "outputs": [
    {
     "data": {
      "text/plain": [
       "Index(['Calories Burned', 'Steps', 'Distance', 'Floors', 'Minutes Sedentary',\n",
       "       'Minutes Lightly Active', 'Minutes Fairly Active',\n",
       "       'Minutes Very Active', 'Activity Calories'],\n",
       "      dtype='object')"
      ]
     },
     "execution_count": 8,
     "metadata": {},
     "output_type": "execute_result"
    }
   ],
   "source": [
    "df.columns"
   ]
  },
  {
   "cell_type": "code",
   "execution_count": 9,
   "metadata": {},
   "outputs": [],
   "source": [
    "df = df.rename(columns={'Calories Burned': 'calories_burned', 'Steps': 'steps', 'Distance': 'distance', \n",
    "                  'Floors': 'floors', 'Minutes Sedentary': 'sedentary_mins', 'Minutes Lightly Active': 'lightly_active_mins',\n",
    "                  'Minutes Fairly Active': 'fairly_active_mins', 'Minutes Very Active': 'very_active_mins', \n",
    "                'Activity Calories': 'activity_calories'})"
   ]
  },
  {
   "cell_type": "code",
   "execution_count": 10,
   "metadata": {},
   "outputs": [
    {
     "data": {
      "text/html": [
       "<div>\n",
       "<style scoped>\n",
       "    .dataframe tbody tr th:only-of-type {\n",
       "        vertical-align: middle;\n",
       "    }\n",
       "\n",
       "    .dataframe tbody tr th {\n",
       "        vertical-align: top;\n",
       "    }\n",
       "\n",
       "    .dataframe thead th {\n",
       "        text-align: right;\n",
       "    }\n",
       "</style>\n",
       "<table border=\"1\" class=\"dataframe\">\n",
       "  <thead>\n",
       "    <tr style=\"text-align: right;\">\n",
       "      <th></th>\n",
       "      <th>calories_burned</th>\n",
       "      <th>steps</th>\n",
       "      <th>distance</th>\n",
       "      <th>floors</th>\n",
       "      <th>sedentary_mins</th>\n",
       "      <th>lightly_active_mins</th>\n",
       "      <th>fairly_active_mins</th>\n",
       "      <th>very_active_mins</th>\n",
       "      <th>activity_calories</th>\n",
       "    </tr>\n",
       "    <tr>\n",
       "      <th>Date</th>\n",
       "      <th></th>\n",
       "      <th></th>\n",
       "      <th></th>\n",
       "      <th></th>\n",
       "      <th></th>\n",
       "      <th></th>\n",
       "      <th></th>\n",
       "      <th></th>\n",
       "      <th></th>\n",
       "    </tr>\n",
       "  </thead>\n",
       "  <tbody>\n",
       "    <tr>\n",
       "      <th>2018-04-26</th>\n",
       "      <td>2635</td>\n",
       "      <td>2931</td>\n",
       "      <td>1.4</td>\n",
       "      <td>2</td>\n",
       "      <td>1347</td>\n",
       "      <td>93</td>\n",
       "      <td>0</td>\n",
       "      <td>0</td>\n",
       "      <td>566</td>\n",
       "    </tr>\n",
       "    <tr>\n",
       "      <th>2018-04-27</th>\n",
       "      <td>3649</td>\n",
       "      <td>9971</td>\n",
       "      <td>4.7</td>\n",
       "      <td>19</td>\n",
       "      <td>1158</td>\n",
       "      <td>219</td>\n",
       "      <td>46</td>\n",
       "      <td>17</td>\n",
       "      <td>1752</td>\n",
       "    </tr>\n",
       "    <tr>\n",
       "      <th>2018-04-28</th>\n",
       "      <td>3379</td>\n",
       "      <td>3521</td>\n",
       "      <td>1.7</td>\n",
       "      <td>2</td>\n",
       "      <td>702</td>\n",
       "      <td>155</td>\n",
       "      <td>22</td>\n",
       "      <td>11</td>\n",
       "      <td>1124</td>\n",
       "    </tr>\n",
       "    <tr>\n",
       "      <th>2018-04-29</th>\n",
       "      <td>2851</td>\n",
       "      <td>1639</td>\n",
       "      <td>0.8</td>\n",
       "      <td>0</td>\n",
       "      <td>891</td>\n",
       "      <td>122</td>\n",
       "      <td>0</td>\n",
       "      <td>0</td>\n",
       "      <td>602</td>\n",
       "    </tr>\n",
       "    <tr>\n",
       "      <th>2018-04-30</th>\n",
       "      <td>2825</td>\n",
       "      <td>1323</td>\n",
       "      <td>0.6</td>\n",
       "      <td>0</td>\n",
       "      <td>880</td>\n",
       "      <td>104</td>\n",
       "      <td>0</td>\n",
       "      <td>0</td>\n",
       "      <td>540</td>\n",
       "    </tr>\n",
       "  </tbody>\n",
       "</table>\n",
       "</div>"
      ],
      "text/plain": [
       "            calories_burned  steps  distance  floors  sedentary_mins  \\\n",
       "Date                                                                   \n",
       "2018-04-26             2635   2931       1.4       2            1347   \n",
       "2018-04-27             3649   9971       4.7      19            1158   \n",
       "2018-04-28             3379   3521       1.7       2             702   \n",
       "2018-04-29             2851   1639       0.8       0             891   \n",
       "2018-04-30             2825   1323       0.6       0             880   \n",
       "\n",
       "            lightly_active_mins  fairly_active_mins  very_active_mins  \\\n",
       "Date                                                                    \n",
       "2018-04-26                   93                   0                 0   \n",
       "2018-04-27                  219                  46                17   \n",
       "2018-04-28                  155                  22                11   \n",
       "2018-04-29                  122                   0                 0   \n",
       "2018-04-30                  104                   0                 0   \n",
       "\n",
       "            activity_calories  \n",
       "Date                           \n",
       "2018-04-26                566  \n",
       "2018-04-27               1752  \n",
       "2018-04-28               1124  \n",
       "2018-04-29                602  \n",
       "2018-04-30                540  "
      ]
     },
     "execution_count": 10,
     "metadata": {},
     "output_type": "execute_result"
    }
   ],
   "source": [
    "df.head()"
   ]
  },
  {
   "cell_type": "markdown",
   "metadata": {},
   "source": [
    "## Add column with total of all activity"
   ]
  },
  {
   "cell_type": "code",
   "execution_count": 11,
   "metadata": {},
   "outputs": [],
   "source": [
    "df['active_total'] = df.lightly_active_mins + df.fairly_active_mins + df.very_active_mins"
   ]
  },
  {
   "cell_type": "markdown",
   "metadata": {},
   "source": [
    "## Add column with ratio of active time to sedentary time"
   ]
  },
  {
   "cell_type": "code",
   "execution_count": 12,
   "metadata": {},
   "outputs": [],
   "source": [
    "df['ratio_act_sed'] = df.active_total/df.sedentary_mins"
   ]
  },
  {
   "cell_type": "markdown",
   "metadata": {},
   "source": [
    "## Add column with ratio of distance to steps (stride)"
   ]
  },
  {
   "cell_type": "code",
   "execution_count": 13,
   "metadata": {},
   "outputs": [],
   "source": [
    "df['stride'] = df.distance/ df.steps"
   ]
  },
  {
   "cell_type": "markdown",
   "metadata": {},
   "source": [
    "## Add column with ratio of calories to steps"
   ]
  },
  {
   "cell_type": "code",
   "execution_count": 14,
   "metadata": {},
   "outputs": [],
   "source": [
    "df['ratio_cal_steps'] = df.calories_burned/df.steps"
   ]
  },
  {
   "cell_type": "markdown",
   "metadata": {},
   "source": [
    "## Add column with ratio of active time to calories"
   ]
  },
  {
   "cell_type": "code",
   "execution_count": 15,
   "metadata": {},
   "outputs": [],
   "source": [
    "df['ratio_active_cal'] = df.active_total/df.calories_burned"
   ]
  },
  {
   "cell_type": "markdown",
   "metadata": {},
   "source": [
    "## Add column with ratio of sedentary time to calories"
   ]
  },
  {
   "cell_type": "code",
   "execution_count": 16,
   "metadata": {},
   "outputs": [],
   "source": [
    "df['ratio_sed_cal'] = df.sedentary_mins/df.calories_burned"
   ]
  },
  {
   "cell_type": "markdown",
   "metadata": {},
   "source": [
    "## Add a Month Column"
   ]
  },
  {
   "cell_type": "code",
   "execution_count": 17,
   "metadata": {},
   "outputs": [],
   "source": [
    "df['month'] = df.index.month"
   ]
  },
  {
   "cell_type": "markdown",
   "metadata": {},
   "source": [
    "## Add a Day of the Week Column"
   ]
  },
  {
   "cell_type": "code",
   "execution_count": 18,
   "metadata": {},
   "outputs": [],
   "source": [
    "df['weekday'] = df.index.strftime('%w %a')"
   ]
  },
  {
   "cell_type": "code",
   "execution_count": 19,
   "metadata": {},
   "outputs": [
    {
     "data": {
      "text/html": [
       "<div>\n",
       "<style scoped>\n",
       "    .dataframe tbody tr th:only-of-type {\n",
       "        vertical-align: middle;\n",
       "    }\n",
       "\n",
       "    .dataframe tbody tr th {\n",
       "        vertical-align: top;\n",
       "    }\n",
       "\n",
       "    .dataframe thead th {\n",
       "        text-align: right;\n",
       "    }\n",
       "</style>\n",
       "<table border=\"1\" class=\"dataframe\">\n",
       "  <thead>\n",
       "    <tr style=\"text-align: right;\">\n",
       "      <th></th>\n",
       "      <th>calories_burned</th>\n",
       "      <th>steps</th>\n",
       "      <th>distance</th>\n",
       "      <th>floors</th>\n",
       "      <th>sedentary_mins</th>\n",
       "      <th>lightly_active_mins</th>\n",
       "      <th>fairly_active_mins</th>\n",
       "      <th>very_active_mins</th>\n",
       "      <th>activity_calories</th>\n",
       "      <th>active_total</th>\n",
       "      <th>ratio_act_sed</th>\n",
       "      <th>stride</th>\n",
       "      <th>ratio_cal_steps</th>\n",
       "      <th>ratio_active_cal</th>\n",
       "      <th>ratio_sed_cal</th>\n",
       "      <th>month</th>\n",
       "      <th>weekday</th>\n",
       "    </tr>\n",
       "    <tr>\n",
       "      <th>Date</th>\n",
       "      <th></th>\n",
       "      <th></th>\n",
       "      <th></th>\n",
       "      <th></th>\n",
       "      <th></th>\n",
       "      <th></th>\n",
       "      <th></th>\n",
       "      <th></th>\n",
       "      <th></th>\n",
       "      <th></th>\n",
       "      <th></th>\n",
       "      <th></th>\n",
       "      <th></th>\n",
       "      <th></th>\n",
       "      <th></th>\n",
       "      <th></th>\n",
       "      <th></th>\n",
       "    </tr>\n",
       "  </thead>\n",
       "  <tbody>\n",
       "    <tr>\n",
       "      <th>2018-04-26</th>\n",
       "      <td>2635</td>\n",
       "      <td>2931</td>\n",
       "      <td>1.4</td>\n",
       "      <td>2</td>\n",
       "      <td>1347</td>\n",
       "      <td>93</td>\n",
       "      <td>0</td>\n",
       "      <td>0</td>\n",
       "      <td>566</td>\n",
       "      <td>93</td>\n",
       "      <td>0.069042</td>\n",
       "      <td>0.000478</td>\n",
       "      <td>0.899011</td>\n",
       "      <td>0.035294</td>\n",
       "      <td>0.511195</td>\n",
       "      <td>4</td>\n",
       "      <td>4 Thu</td>\n",
       "    </tr>\n",
       "    <tr>\n",
       "      <th>2018-04-27</th>\n",
       "      <td>3649</td>\n",
       "      <td>9971</td>\n",
       "      <td>4.7</td>\n",
       "      <td>19</td>\n",
       "      <td>1158</td>\n",
       "      <td>219</td>\n",
       "      <td>46</td>\n",
       "      <td>17</td>\n",
       "      <td>1752</td>\n",
       "      <td>282</td>\n",
       "      <td>0.243523</td>\n",
       "      <td>0.000471</td>\n",
       "      <td>0.365961</td>\n",
       "      <td>0.077281</td>\n",
       "      <td>0.317347</td>\n",
       "      <td>4</td>\n",
       "      <td>5 Fri</td>\n",
       "    </tr>\n",
       "    <tr>\n",
       "      <th>2018-04-28</th>\n",
       "      <td>3379</td>\n",
       "      <td>3521</td>\n",
       "      <td>1.7</td>\n",
       "      <td>2</td>\n",
       "      <td>702</td>\n",
       "      <td>155</td>\n",
       "      <td>22</td>\n",
       "      <td>11</td>\n",
       "      <td>1124</td>\n",
       "      <td>188</td>\n",
       "      <td>0.267806</td>\n",
       "      <td>0.000483</td>\n",
       "      <td>0.959671</td>\n",
       "      <td>0.055638</td>\n",
       "      <td>0.207754</td>\n",
       "      <td>4</td>\n",
       "      <td>6 Sat</td>\n",
       "    </tr>\n",
       "    <tr>\n",
       "      <th>2018-04-29</th>\n",
       "      <td>2851</td>\n",
       "      <td>1639</td>\n",
       "      <td>0.8</td>\n",
       "      <td>0</td>\n",
       "      <td>891</td>\n",
       "      <td>122</td>\n",
       "      <td>0</td>\n",
       "      <td>0</td>\n",
       "      <td>602</td>\n",
       "      <td>122</td>\n",
       "      <td>0.136925</td>\n",
       "      <td>0.000488</td>\n",
       "      <td>1.739475</td>\n",
       "      <td>0.042792</td>\n",
       "      <td>0.312522</td>\n",
       "      <td>4</td>\n",
       "      <td>0 Sun</td>\n",
       "    </tr>\n",
       "    <tr>\n",
       "      <th>2018-04-30</th>\n",
       "      <td>2825</td>\n",
       "      <td>1323</td>\n",
       "      <td>0.6</td>\n",
       "      <td>0</td>\n",
       "      <td>880</td>\n",
       "      <td>104</td>\n",
       "      <td>0</td>\n",
       "      <td>0</td>\n",
       "      <td>540</td>\n",
       "      <td>104</td>\n",
       "      <td>0.118182</td>\n",
       "      <td>0.000454</td>\n",
       "      <td>2.135299</td>\n",
       "      <td>0.036814</td>\n",
       "      <td>0.311504</td>\n",
       "      <td>4</td>\n",
       "      <td>1 Mon</td>\n",
       "    </tr>\n",
       "  </tbody>\n",
       "</table>\n",
       "</div>"
      ],
      "text/plain": [
       "            calories_burned  steps  distance  floors  sedentary_mins  \\\n",
       "Date                                                                   \n",
       "2018-04-26             2635   2931       1.4       2            1347   \n",
       "2018-04-27             3649   9971       4.7      19            1158   \n",
       "2018-04-28             3379   3521       1.7       2             702   \n",
       "2018-04-29             2851   1639       0.8       0             891   \n",
       "2018-04-30             2825   1323       0.6       0             880   \n",
       "\n",
       "            lightly_active_mins  fairly_active_mins  very_active_mins  \\\n",
       "Date                                                                    \n",
       "2018-04-26                   93                   0                 0   \n",
       "2018-04-27                  219                  46                17   \n",
       "2018-04-28                  155                  22                11   \n",
       "2018-04-29                  122                   0                 0   \n",
       "2018-04-30                  104                   0                 0   \n",
       "\n",
       "            activity_calories  active_total  ratio_act_sed    stride  \\\n",
       "Date                                                                   \n",
       "2018-04-26                566            93       0.069042  0.000478   \n",
       "2018-04-27               1752           282       0.243523  0.000471   \n",
       "2018-04-28               1124           188       0.267806  0.000483   \n",
       "2018-04-29                602           122       0.136925  0.000488   \n",
       "2018-04-30                540           104       0.118182  0.000454   \n",
       "\n",
       "            ratio_cal_steps  ratio_active_cal  ratio_sed_cal  month weekday  \n",
       "Date                                                                         \n",
       "2018-04-26         0.899011          0.035294       0.511195      4   4 Thu  \n",
       "2018-04-27         0.365961          0.077281       0.317347      4   5 Fri  \n",
       "2018-04-28         0.959671          0.055638       0.207754      4   6 Sat  \n",
       "2018-04-29         1.739475          0.042792       0.312522      4   0 Sun  \n",
       "2018-04-30         2.135299          0.036814       0.311504      4   1 Mon  "
      ]
     },
     "execution_count": 19,
     "metadata": {},
     "output_type": "execute_result"
    }
   ],
   "source": [
    "df.head()"
   ]
  },
  {
   "cell_type": "markdown",
   "metadata": {},
   "source": [
    "# Explore\n",
    "\n",
    "- Begin stage with 225 rows and 17 columns\n",
    "\n",
    "- 33 Thursdays, 32 each Friday through Wednesday\n",
    "\n",
    "    - We will drop the first row which is a Thursday to keep weekday count equal."
   ]
  },
  {
   "cell_type": "code",
   "execution_count": 20,
   "metadata": {},
   "outputs": [
    {
     "data": {
      "text/plain": [
       "(225, 17)"
      ]
     },
     "execution_count": 20,
     "metadata": {},
     "output_type": "execute_result"
    }
   ],
   "source": [
    "df.shape"
   ]
  },
  {
   "cell_type": "code",
   "execution_count": 21,
   "metadata": {},
   "outputs": [
    {
     "name": "stdout",
     "output_type": "stream",
     "text": [
      "<class 'pandas.core.frame.DataFrame'>\n",
      "DatetimeIndex: 225 entries, 2018-04-26 to 2018-12-06\n",
      "Freq: D\n",
      "Data columns (total 17 columns):\n",
      "calories_burned        225 non-null int64\n",
      "steps                  225 non-null int64\n",
      "distance               225 non-null float64\n",
      "floors                 225 non-null int64\n",
      "sedentary_mins         225 non-null int64\n",
      "lightly_active_mins    225 non-null int64\n",
      "fairly_active_mins     225 non-null int64\n",
      "very_active_mins       225 non-null int64\n",
      "activity_calories      225 non-null int64\n",
      "active_total           225 non-null int64\n",
      "ratio_act_sed          225 non-null float64\n",
      "stride                 213 non-null float64\n",
      "ratio_cal_steps        225 non-null float64\n",
      "ratio_active_cal       225 non-null float64\n",
      "ratio_sed_cal          225 non-null float64\n",
      "month                  225 non-null int64\n",
      "weekday                225 non-null object\n",
      "dtypes: float64(6), int64(10), object(1)\n",
      "memory usage: 31.6+ KB\n"
     ]
    }
   ],
   "source": [
    "df.info()"
   ]
  },
  {
   "cell_type": "code",
   "execution_count": 22,
   "metadata": {},
   "outputs": [
    {
     "data": {
      "text/html": [
       "<div>\n",
       "<style scoped>\n",
       "    .dataframe tbody tr th:only-of-type {\n",
       "        vertical-align: middle;\n",
       "    }\n",
       "\n",
       "    .dataframe tbody tr th {\n",
       "        vertical-align: top;\n",
       "    }\n",
       "\n",
       "    .dataframe thead th {\n",
       "        text-align: right;\n",
       "    }\n",
       "</style>\n",
       "<table border=\"1\" class=\"dataframe\">\n",
       "  <thead>\n",
       "    <tr style=\"text-align: right;\">\n",
       "      <th></th>\n",
       "      <th>calories_burned</th>\n",
       "      <th>steps</th>\n",
       "      <th>distance</th>\n",
       "      <th>floors</th>\n",
       "      <th>sedentary_mins</th>\n",
       "      <th>lightly_active_mins</th>\n",
       "      <th>fairly_active_mins</th>\n",
       "      <th>very_active_mins</th>\n",
       "      <th>activity_calories</th>\n",
       "      <th>active_total</th>\n",
       "      <th>ratio_act_sed</th>\n",
       "      <th>stride</th>\n",
       "      <th>ratio_cal_steps</th>\n",
       "      <th>ratio_active_cal</th>\n",
       "      <th>ratio_sed_cal</th>\n",
       "      <th>month</th>\n",
       "    </tr>\n",
       "  </thead>\n",
       "  <tbody>\n",
       "    <tr>\n",
       "      <th>count</th>\n",
       "      <td>225.000000</td>\n",
       "      <td>225.000000</td>\n",
       "      <td>225.000000</td>\n",
       "      <td>225.000000</td>\n",
       "      <td>225.000000</td>\n",
       "      <td>225.000000</td>\n",
       "      <td>225.000000</td>\n",
       "      <td>225.000000</td>\n",
       "      <td>225.000000</td>\n",
       "      <td>225.000000</td>\n",
       "      <td>225.000000</td>\n",
       "      <td>213.000000</td>\n",
       "      <td>225.000000</td>\n",
       "      <td>225.000000</td>\n",
       "      <td>225.000000</td>\n",
       "      <td>225.000000</td>\n",
       "    </tr>\n",
       "    <tr>\n",
       "      <th>mean</th>\n",
       "      <td>3401.911111</td>\n",
       "      <td>8536.186667</td>\n",
       "      <td>4.052000</td>\n",
       "      <td>12.591111</td>\n",
       "      <td>809.520000</td>\n",
       "      <td>188.235556</td>\n",
       "      <td>14.920000</td>\n",
       "      <td>33.871111</td>\n",
       "      <td>1484.546667</td>\n",
       "      <td>237.026667</td>\n",
       "      <td>0.340755</td>\n",
       "      <td>0.000471</td>\n",
       "      <td>inf</td>\n",
       "      <td>0.066193</td>\n",
       "      <td>0.255918</td>\n",
       "      <td>8.008889</td>\n",
       "    </tr>\n",
       "    <tr>\n",
       "      <th>std</th>\n",
       "      <td>632.426578</td>\n",
       "      <td>5255.746608</td>\n",
       "      <td>2.507472</td>\n",
       "      <td>25.844174</td>\n",
       "      <td>243.232639</td>\n",
       "      <td>75.170001</td>\n",
       "      <td>15.363535</td>\n",
       "      <td>37.195986</td>\n",
       "      <td>747.795790</td>\n",
       "      <td>103.121761</td>\n",
       "      <td>0.203614</td>\n",
       "      <td>0.000048</td>\n",
       "      <td>NaN</td>\n",
       "      <td>0.023508</td>\n",
       "      <td>0.129883</td>\n",
       "      <td>2.144326</td>\n",
       "    </tr>\n",
       "    <tr>\n",
       "      <th>min</th>\n",
       "      <td>799.000000</td>\n",
       "      <td>0.000000</td>\n",
       "      <td>0.000000</td>\n",
       "      <td>0.000000</td>\n",
       "      <td>28.000000</td>\n",
       "      <td>0.000000</td>\n",
       "      <td>0.000000</td>\n",
       "      <td>0.000000</td>\n",
       "      <td>0.000000</td>\n",
       "      <td>0.000000</td>\n",
       "      <td>0.000000</td>\n",
       "      <td>0.000000</td>\n",
       "      <td>0.189401</td>\n",
       "      <td>0.000000</td>\n",
       "      <td>0.035044</td>\n",
       "      <td>4.000000</td>\n",
       "    </tr>\n",
       "    <tr>\n",
       "      <th>25%</th>\n",
       "      <td>3069.000000</td>\n",
       "      <td>4714.000000</td>\n",
       "      <td>2.200000</td>\n",
       "      <td>2.000000</td>\n",
       "      <td>654.000000</td>\n",
       "      <td>158.000000</td>\n",
       "      <td>3.000000</td>\n",
       "      <td>2.000000</td>\n",
       "      <td>1062.000000</td>\n",
       "      <td>187.000000</td>\n",
       "      <td>0.213303</td>\n",
       "      <td>0.000469</td>\n",
       "      <td>0.308263</td>\n",
       "      <td>0.060267</td>\n",
       "      <td>0.176864</td>\n",
       "      <td>6.000000</td>\n",
       "    </tr>\n",
       "    <tr>\n",
       "      <th>50%</th>\n",
       "      <td>3385.000000</td>\n",
       "      <td>7806.000000</td>\n",
       "      <td>3.700000</td>\n",
       "      <td>7.000000</td>\n",
       "      <td>750.000000</td>\n",
       "      <td>203.000000</td>\n",
       "      <td>11.000000</td>\n",
       "      <td>15.000000</td>\n",
       "      <td>1481.000000</td>\n",
       "      <td>253.000000</td>\n",
       "      <td>0.324934</td>\n",
       "      <td>0.000472</td>\n",
       "      <td>0.429876</td>\n",
       "      <td>0.072244</td>\n",
       "      <td>0.219793</td>\n",
       "      <td>8.000000</td>\n",
       "    </tr>\n",
       "    <tr>\n",
       "      <th>75%</th>\n",
       "      <td>3765.000000</td>\n",
       "      <td>12380.000000</td>\n",
       "      <td>5.900000</td>\n",
       "      <td>13.000000</td>\n",
       "      <td>877.000000</td>\n",
       "      <td>236.000000</td>\n",
       "      <td>21.000000</td>\n",
       "      <td>63.000000</td>\n",
       "      <td>1962.000000</td>\n",
       "      <td>299.000000</td>\n",
       "      <td>0.446337</td>\n",
       "      <td>0.000477</td>\n",
       "      <td>0.635178</td>\n",
       "      <td>0.079378</td>\n",
       "      <td>0.282792</td>\n",
       "      <td>10.000000</td>\n",
       "    </tr>\n",
       "    <tr>\n",
       "      <th>max</th>\n",
       "      <td>5199.000000</td>\n",
       "      <td>25512.000000</td>\n",
       "      <td>12.000000</td>\n",
       "      <td>195.000000</td>\n",
       "      <td>1440.000000</td>\n",
       "      <td>349.000000</td>\n",
       "      <td>78.000000</td>\n",
       "      <td>154.000000</td>\n",
       "      <td>3596.000000</td>\n",
       "      <td>505.000000</td>\n",
       "      <td>1.256219</td>\n",
       "      <td>0.000581</td>\n",
       "      <td>inf</td>\n",
       "      <td>0.110248</td>\n",
       "      <td>0.671642</td>\n",
       "      <td>12.000000</td>\n",
       "    </tr>\n",
       "  </tbody>\n",
       "</table>\n",
       "</div>"
      ],
      "text/plain": [
       "       calories_burned         steps    distance      floors  sedentary_mins  \\\n",
       "count       225.000000    225.000000  225.000000  225.000000      225.000000   \n",
       "mean       3401.911111   8536.186667    4.052000   12.591111      809.520000   \n",
       "std         632.426578   5255.746608    2.507472   25.844174      243.232639   \n",
       "min         799.000000      0.000000    0.000000    0.000000       28.000000   \n",
       "25%        3069.000000   4714.000000    2.200000    2.000000      654.000000   \n",
       "50%        3385.000000   7806.000000    3.700000    7.000000      750.000000   \n",
       "75%        3765.000000  12380.000000    5.900000   13.000000      877.000000   \n",
       "max        5199.000000  25512.000000   12.000000  195.000000     1440.000000   \n",
       "\n",
       "       lightly_active_mins  fairly_active_mins  very_active_mins  \\\n",
       "count           225.000000          225.000000        225.000000   \n",
       "mean            188.235556           14.920000         33.871111   \n",
       "std              75.170001           15.363535         37.195986   \n",
       "min               0.000000            0.000000          0.000000   \n",
       "25%             158.000000            3.000000          2.000000   \n",
       "50%             203.000000           11.000000         15.000000   \n",
       "75%             236.000000           21.000000         63.000000   \n",
       "max             349.000000           78.000000        154.000000   \n",
       "\n",
       "       activity_calories  active_total  ratio_act_sed      stride  \\\n",
       "count         225.000000    225.000000     225.000000  213.000000   \n",
       "mean         1484.546667    237.026667       0.340755    0.000471   \n",
       "std           747.795790    103.121761       0.203614    0.000048   \n",
       "min             0.000000      0.000000       0.000000    0.000000   \n",
       "25%          1062.000000    187.000000       0.213303    0.000469   \n",
       "50%          1481.000000    253.000000       0.324934    0.000472   \n",
       "75%          1962.000000    299.000000       0.446337    0.000477   \n",
       "max          3596.000000    505.000000       1.256219    0.000581   \n",
       "\n",
       "       ratio_cal_steps  ratio_active_cal  ratio_sed_cal       month  \n",
       "count       225.000000        225.000000     225.000000  225.000000  \n",
       "mean               inf          0.066193       0.255918    8.008889  \n",
       "std                NaN          0.023508       0.129883    2.144326  \n",
       "min           0.189401          0.000000       0.035044    4.000000  \n",
       "25%           0.308263          0.060267       0.176864    6.000000  \n",
       "50%           0.429876          0.072244       0.219793    8.000000  \n",
       "75%           0.635178          0.079378       0.282792   10.000000  \n",
       "max                inf          0.110248       0.671642   12.000000  "
      ]
     },
     "execution_count": 22,
     "metadata": {},
     "output_type": "execute_result"
    }
   ],
   "source": [
    "df.describe()"
   ]
  },
  {
   "cell_type": "markdown",
   "metadata": {},
   "source": [
    "## Equalize Weekdays\n",
    "\n",
    "- drop the first row leaving us with 224 rows, 17 columns"
   ]
  },
  {
   "cell_type": "code",
   "execution_count": 23,
   "metadata": {},
   "outputs": [
    {
     "data": {
      "text/plain": [
       "4 Thu    33\n",
       "0 Sun    32\n",
       "2 Tue    32\n",
       "5 Fri    32\n",
       "3 Wed    32\n",
       "1 Mon    32\n",
       "6 Sat    32\n",
       "Name: weekday, dtype: int64"
      ]
     },
     "execution_count": 23,
     "metadata": {},
     "output_type": "execute_result"
    }
   ],
   "source": [
    "# retrieve a weekday count, drop the first Thursday '2018-04-26'\n",
    "\n",
    "df['weekday'].value_counts()"
   ]
  },
  {
   "cell_type": "code",
   "execution_count": 24,
   "metadata": {},
   "outputs": [],
   "source": [
    "# drop the first row, an extra Thursday\n",
    "\n",
    "df = df[df.index != \"2018-04-26\"]"
   ]
  },
  {
   "cell_type": "markdown",
   "metadata": {},
   "source": [
    "## Fill Stride Column NaNs with 0"
   ]
  },
  {
   "cell_type": "code",
   "execution_count": 25,
   "metadata": {},
   "outputs": [],
   "source": [
    "df['stride'] = df.stride.fillna(0)"
   ]
  },
  {
   "cell_type": "code",
   "execution_count": 26,
   "metadata": {},
   "outputs": [],
   "source": [
    "df = df.replace([np.inf, -np.inf], 0)"
   ]
  },
  {
   "cell_type": "code",
   "execution_count": 27,
   "metadata": {},
   "outputs": [
    {
     "data": {
      "text/plain": [
       "calories_burned        0\n",
       "steps                  0\n",
       "distance               0\n",
       "floors                 0\n",
       "sedentary_mins         0\n",
       "lightly_active_mins    0\n",
       "fairly_active_mins     0\n",
       "very_active_mins       0\n",
       "activity_calories      0\n",
       "active_total           0\n",
       "ratio_act_sed          0\n",
       "stride                 0\n",
       "ratio_cal_steps        0\n",
       "ratio_active_cal       0\n",
       "ratio_sed_cal          0\n",
       "month                  0\n",
       "weekday                0\n",
       "dtype: int64"
      ]
     },
     "execution_count": 27,
     "metadata": {},
     "output_type": "execute_result"
    }
   ],
   "source": [
    "df.isnull().sum()"
   ]
  },
  {
   "cell_type": "code",
   "execution_count": 28,
   "metadata": {},
   "outputs": [
    {
     "data": {
      "text/plain": [
       "very_active_mins       50\n",
       "fairly_active_mins     45\n",
       "floors                 31\n",
       "stride                 14\n",
       "distance               14\n",
       "steps                  12\n",
       "ratio_cal_steps        12\n",
       "activity_calories       9\n",
       "ratio_active_cal        9\n",
       "ratio_act_sed           9\n",
       "active_total            9\n",
       "lightly_active_mins     9\n",
       "weekday                 0\n",
       "sedentary_mins          0\n",
       "month                   0\n",
       "ratio_sed_cal           0\n",
       "calories_burned         0\n",
       "dtype: int64"
      ]
     },
     "execution_count": 28,
     "metadata": {},
     "output_type": "execute_result"
    }
   ],
   "source": [
    "(df == 0).astype(int).sum().sort_values(ascending = False)"
   ]
  },
  {
   "cell_type": "markdown",
   "metadata": {},
   "source": [
    "## Look at Days with 0 Steps\n",
    "\n",
    "- There are 0 values for steps in the following dates/date ranges\n",
    "\n",
    "    - 6/6 - 6/7\n",
    "    - 6/11\n",
    "    - 6/26 - 6/30\n",
    "    - 7/3 - 7/6\n",
    "    \n",
    "- We will look for trends before and after the breaks to decide how to handle these rows."
   ]
  },
  {
   "cell_type": "code",
   "execution_count": 29,
   "metadata": {},
   "outputs": [
    {
     "data": {
      "text/html": [
       "<div>\n",
       "<style scoped>\n",
       "    .dataframe tbody tr th:only-of-type {\n",
       "        vertical-align: middle;\n",
       "    }\n",
       "\n",
       "    .dataframe tbody tr th {\n",
       "        vertical-align: top;\n",
       "    }\n",
       "\n",
       "    .dataframe thead th {\n",
       "        text-align: right;\n",
       "    }\n",
       "</style>\n",
       "<table border=\"1\" class=\"dataframe\">\n",
       "  <thead>\n",
       "    <tr style=\"text-align: right;\">\n",
       "      <th></th>\n",
       "      <th>calories_burned</th>\n",
       "      <th>steps</th>\n",
       "      <th>distance</th>\n",
       "      <th>floors</th>\n",
       "      <th>sedentary_mins</th>\n",
       "      <th>lightly_active_mins</th>\n",
       "      <th>fairly_active_mins</th>\n",
       "      <th>very_active_mins</th>\n",
       "      <th>activity_calories</th>\n",
       "      <th>active_total</th>\n",
       "      <th>ratio_act_sed</th>\n",
       "      <th>stride</th>\n",
       "      <th>ratio_cal_steps</th>\n",
       "      <th>ratio_active_cal</th>\n",
       "      <th>ratio_sed_cal</th>\n",
       "      <th>month</th>\n",
       "      <th>weekday</th>\n",
       "    </tr>\n",
       "    <tr>\n",
       "      <th>Date</th>\n",
       "      <th></th>\n",
       "      <th></th>\n",
       "      <th></th>\n",
       "      <th></th>\n",
       "      <th></th>\n",
       "      <th></th>\n",
       "      <th></th>\n",
       "      <th></th>\n",
       "      <th></th>\n",
       "      <th></th>\n",
       "      <th></th>\n",
       "      <th></th>\n",
       "      <th></th>\n",
       "      <th></th>\n",
       "      <th></th>\n",
       "      <th></th>\n",
       "      <th></th>\n",
       "    </tr>\n",
       "  </thead>\n",
       "  <tbody>\n",
       "    <tr>\n",
       "      <th>2018-06-06</th>\n",
       "      <td>2145</td>\n",
       "      <td>0</td>\n",
       "      <td>0.0</td>\n",
       "      <td>0</td>\n",
       "      <td>1440</td>\n",
       "      <td>0</td>\n",
       "      <td>0</td>\n",
       "      <td>0</td>\n",
       "      <td>0</td>\n",
       "      <td>0</td>\n",
       "      <td>0.000000</td>\n",
       "      <td>0.0</td>\n",
       "      <td>0.0</td>\n",
       "      <td>0.000000</td>\n",
       "      <td>0.671329</td>\n",
       "      <td>6</td>\n",
       "      <td>3 Wed</td>\n",
       "    </tr>\n",
       "    <tr>\n",
       "      <th>2018-06-07</th>\n",
       "      <td>2146</td>\n",
       "      <td>0</td>\n",
       "      <td>0.0</td>\n",
       "      <td>0</td>\n",
       "      <td>1440</td>\n",
       "      <td>0</td>\n",
       "      <td>0</td>\n",
       "      <td>0</td>\n",
       "      <td>0</td>\n",
       "      <td>0</td>\n",
       "      <td>0.000000</td>\n",
       "      <td>0.0</td>\n",
       "      <td>0.0</td>\n",
       "      <td>0.000000</td>\n",
       "      <td>0.671016</td>\n",
       "      <td>6</td>\n",
       "      <td>4 Thu</td>\n",
       "    </tr>\n",
       "    <tr>\n",
       "      <th>2018-06-11</th>\n",
       "      <td>2146</td>\n",
       "      <td>0</td>\n",
       "      <td>0.0</td>\n",
       "      <td>0</td>\n",
       "      <td>1440</td>\n",
       "      <td>0</td>\n",
       "      <td>0</td>\n",
       "      <td>0</td>\n",
       "      <td>0</td>\n",
       "      <td>0</td>\n",
       "      <td>0.000000</td>\n",
       "      <td>0.0</td>\n",
       "      <td>0.0</td>\n",
       "      <td>0.000000</td>\n",
       "      <td>0.671016</td>\n",
       "      <td>6</td>\n",
       "      <td>1 Mon</td>\n",
       "    </tr>\n",
       "    <tr>\n",
       "      <th>2018-06-26</th>\n",
       "      <td>2144</td>\n",
       "      <td>0</td>\n",
       "      <td>0.0</td>\n",
       "      <td>0</td>\n",
       "      <td>1440</td>\n",
       "      <td>0</td>\n",
       "      <td>0</td>\n",
       "      <td>0</td>\n",
       "      <td>0</td>\n",
       "      <td>0</td>\n",
       "      <td>0.000000</td>\n",
       "      <td>0.0</td>\n",
       "      <td>0.0</td>\n",
       "      <td>0.000000</td>\n",
       "      <td>0.671642</td>\n",
       "      <td>6</td>\n",
       "      <td>2 Tue</td>\n",
       "    </tr>\n",
       "    <tr>\n",
       "      <th>2018-06-27</th>\n",
       "      <td>2145</td>\n",
       "      <td>0</td>\n",
       "      <td>0.0</td>\n",
       "      <td>0</td>\n",
       "      <td>1440</td>\n",
       "      <td>0</td>\n",
       "      <td>0</td>\n",
       "      <td>0</td>\n",
       "      <td>0</td>\n",
       "      <td>0</td>\n",
       "      <td>0.000000</td>\n",
       "      <td>0.0</td>\n",
       "      <td>0.0</td>\n",
       "      <td>0.000000</td>\n",
       "      <td>0.671329</td>\n",
       "      <td>6</td>\n",
       "      <td>3 Wed</td>\n",
       "    </tr>\n",
       "    <tr>\n",
       "      <th>2018-06-28</th>\n",
       "      <td>2145</td>\n",
       "      <td>0</td>\n",
       "      <td>0.0</td>\n",
       "      <td>0</td>\n",
       "      <td>1440</td>\n",
       "      <td>0</td>\n",
       "      <td>0</td>\n",
       "      <td>0</td>\n",
       "      <td>0</td>\n",
       "      <td>0</td>\n",
       "      <td>0.000000</td>\n",
       "      <td>0.0</td>\n",
       "      <td>0.0</td>\n",
       "      <td>0.000000</td>\n",
       "      <td>0.671329</td>\n",
       "      <td>6</td>\n",
       "      <td>4 Thu</td>\n",
       "    </tr>\n",
       "    <tr>\n",
       "      <th>2018-06-29</th>\n",
       "      <td>2180</td>\n",
       "      <td>0</td>\n",
       "      <td>0.0</td>\n",
       "      <td>0</td>\n",
       "      <td>1437</td>\n",
       "      <td>3</td>\n",
       "      <td>0</td>\n",
       "      <td>0</td>\n",
       "      <td>39</td>\n",
       "      <td>3</td>\n",
       "      <td>0.002088</td>\n",
       "      <td>0.0</td>\n",
       "      <td>0.0</td>\n",
       "      <td>0.001376</td>\n",
       "      <td>0.659174</td>\n",
       "      <td>6</td>\n",
       "      <td>5 Fri</td>\n",
       "    </tr>\n",
       "    <tr>\n",
       "      <th>2018-06-30</th>\n",
       "      <td>2145</td>\n",
       "      <td>0</td>\n",
       "      <td>0.0</td>\n",
       "      <td>0</td>\n",
       "      <td>1440</td>\n",
       "      <td>0</td>\n",
       "      <td>0</td>\n",
       "      <td>0</td>\n",
       "      <td>0</td>\n",
       "      <td>0</td>\n",
       "      <td>0.000000</td>\n",
       "      <td>0.0</td>\n",
       "      <td>0.0</td>\n",
       "      <td>0.000000</td>\n",
       "      <td>0.671329</td>\n",
       "      <td>6</td>\n",
       "      <td>6 Sat</td>\n",
       "    </tr>\n",
       "    <tr>\n",
       "      <th>2018-07-03</th>\n",
       "      <td>2144</td>\n",
       "      <td>0</td>\n",
       "      <td>0.0</td>\n",
       "      <td>0</td>\n",
       "      <td>1440</td>\n",
       "      <td>0</td>\n",
       "      <td>0</td>\n",
       "      <td>0</td>\n",
       "      <td>0</td>\n",
       "      <td>0</td>\n",
       "      <td>0.000000</td>\n",
       "      <td>0.0</td>\n",
       "      <td>0.0</td>\n",
       "      <td>0.000000</td>\n",
       "      <td>0.671642</td>\n",
       "      <td>7</td>\n",
       "      <td>2 Tue</td>\n",
       "    </tr>\n",
       "    <tr>\n",
       "      <th>2018-07-04</th>\n",
       "      <td>2183</td>\n",
       "      <td>0</td>\n",
       "      <td>0.0</td>\n",
       "      <td>0</td>\n",
       "      <td>1438</td>\n",
       "      <td>2</td>\n",
       "      <td>0</td>\n",
       "      <td>0</td>\n",
       "      <td>42</td>\n",
       "      <td>2</td>\n",
       "      <td>0.001391</td>\n",
       "      <td>0.0</td>\n",
       "      <td>0.0</td>\n",
       "      <td>0.000916</td>\n",
       "      <td>0.658727</td>\n",
       "      <td>7</td>\n",
       "      <td>3 Wed</td>\n",
       "    </tr>\n",
       "    <tr>\n",
       "      <th>2018-07-05</th>\n",
       "      <td>2153</td>\n",
       "      <td>0</td>\n",
       "      <td>0.0</td>\n",
       "      <td>0</td>\n",
       "      <td>1439</td>\n",
       "      <td>1</td>\n",
       "      <td>0</td>\n",
       "      <td>0</td>\n",
       "      <td>10</td>\n",
       "      <td>1</td>\n",
       "      <td>0.000695</td>\n",
       "      <td>0.0</td>\n",
       "      <td>0.0</td>\n",
       "      <td>0.000464</td>\n",
       "      <td>0.668370</td>\n",
       "      <td>7</td>\n",
       "      <td>4 Thu</td>\n",
       "    </tr>\n",
       "    <tr>\n",
       "      <th>2018-07-06</th>\n",
       "      <td>2144</td>\n",
       "      <td>0</td>\n",
       "      <td>0.0</td>\n",
       "      <td>0</td>\n",
       "      <td>1440</td>\n",
       "      <td>0</td>\n",
       "      <td>0</td>\n",
       "      <td>0</td>\n",
       "      <td>0</td>\n",
       "      <td>0</td>\n",
       "      <td>0.000000</td>\n",
       "      <td>0.0</td>\n",
       "      <td>0.0</td>\n",
       "      <td>0.000000</td>\n",
       "      <td>0.671642</td>\n",
       "      <td>7</td>\n",
       "      <td>5 Fri</td>\n",
       "    </tr>\n",
       "  </tbody>\n",
       "</table>\n",
       "</div>"
      ],
      "text/plain": [
       "            calories_burned  steps  distance  floors  sedentary_mins  \\\n",
       "Date                                                                   \n",
       "2018-06-06             2145      0       0.0       0            1440   \n",
       "2018-06-07             2146      0       0.0       0            1440   \n",
       "2018-06-11             2146      0       0.0       0            1440   \n",
       "2018-06-26             2144      0       0.0       0            1440   \n",
       "2018-06-27             2145      0       0.0       0            1440   \n",
       "2018-06-28             2145      0       0.0       0            1440   \n",
       "2018-06-29             2180      0       0.0       0            1437   \n",
       "2018-06-30             2145      0       0.0       0            1440   \n",
       "2018-07-03             2144      0       0.0       0            1440   \n",
       "2018-07-04             2183      0       0.0       0            1438   \n",
       "2018-07-05             2153      0       0.0       0            1439   \n",
       "2018-07-06             2144      0       0.0       0            1440   \n",
       "\n",
       "            lightly_active_mins  fairly_active_mins  very_active_mins  \\\n",
       "Date                                                                    \n",
       "2018-06-06                    0                   0                 0   \n",
       "2018-06-07                    0                   0                 0   \n",
       "2018-06-11                    0                   0                 0   \n",
       "2018-06-26                    0                   0                 0   \n",
       "2018-06-27                    0                   0                 0   \n",
       "2018-06-28                    0                   0                 0   \n",
       "2018-06-29                    3                   0                 0   \n",
       "2018-06-30                    0                   0                 0   \n",
       "2018-07-03                    0                   0                 0   \n",
       "2018-07-04                    2                   0                 0   \n",
       "2018-07-05                    1                   0                 0   \n",
       "2018-07-06                    0                   0                 0   \n",
       "\n",
       "            activity_calories  active_total  ratio_act_sed  stride  \\\n",
       "Date                                                                 \n",
       "2018-06-06                  0             0       0.000000     0.0   \n",
       "2018-06-07                  0             0       0.000000     0.0   \n",
       "2018-06-11                  0             0       0.000000     0.0   \n",
       "2018-06-26                  0             0       0.000000     0.0   \n",
       "2018-06-27                  0             0       0.000000     0.0   \n",
       "2018-06-28                  0             0       0.000000     0.0   \n",
       "2018-06-29                 39             3       0.002088     0.0   \n",
       "2018-06-30                  0             0       0.000000     0.0   \n",
       "2018-07-03                  0             0       0.000000     0.0   \n",
       "2018-07-04                 42             2       0.001391     0.0   \n",
       "2018-07-05                 10             1       0.000695     0.0   \n",
       "2018-07-06                  0             0       0.000000     0.0   \n",
       "\n",
       "            ratio_cal_steps  ratio_active_cal  ratio_sed_cal  month weekday  \n",
       "Date                                                                         \n",
       "2018-06-06              0.0          0.000000       0.671329      6   3 Wed  \n",
       "2018-06-07              0.0          0.000000       0.671016      6   4 Thu  \n",
       "2018-06-11              0.0          0.000000       0.671016      6   1 Mon  \n",
       "2018-06-26              0.0          0.000000       0.671642      6   2 Tue  \n",
       "2018-06-27              0.0          0.000000       0.671329      6   3 Wed  \n",
       "2018-06-28              0.0          0.000000       0.671329      6   4 Thu  \n",
       "2018-06-29              0.0          0.001376       0.659174      6   5 Fri  \n",
       "2018-06-30              0.0          0.000000       0.671329      6   6 Sat  \n",
       "2018-07-03              0.0          0.000000       0.671642      7   2 Tue  \n",
       "2018-07-04              0.0          0.000916       0.658727      7   3 Wed  \n",
       "2018-07-05              0.0          0.000464       0.668370      7   4 Thu  \n",
       "2018-07-06              0.0          0.000000       0.671642      7   5 Fri  "
      ]
     },
     "execution_count": 29,
     "metadata": {},
     "output_type": "execute_result"
    }
   ],
   "source": [
    "df[df['steps'] == 0]"
   ]
  },
  {
   "cell_type": "markdown",
   "metadata": {},
   "source": [
    "## Calculate Mean Values by Weekdays"
   ]
  },
  {
   "cell_type": "code",
   "execution_count": 30,
   "metadata": {},
   "outputs": [
    {
     "data": {
      "text/plain": [
       "calories_burned        3196.500000\n",
       "steps                  6187.000000\n",
       "distance                  2.900000\n",
       "floors                    6.000000\n",
       "sedentary_mins          761.000000\n",
       "lightly_active_mins     196.500000\n",
       "fairly_active_mins        8.000000\n",
       "very_active_mins         12.000000\n",
       "activity_calories      1268.500000\n",
       "active_total            220.000000\n",
       "ratio_act_sed             0.272030\n",
       "stride                    0.000471\n",
       "ratio_cal_steps           0.497201\n",
       "ratio_active_cal          0.069556\n",
       "ratio_sed_cal             0.239413\n",
       "month                     8.000000\n",
       "dtype: float64"
      ]
     },
     "execution_count": 30,
     "metadata": {},
     "output_type": "execute_result"
    }
   ],
   "source": [
    "# Means for Mondays\n",
    "\n",
    "df[df['weekday'] == '1 Mon'].median()"
   ]
  },
  {
   "cell_type": "code",
   "execution_count": 31,
   "metadata": {},
   "outputs": [
    {
     "data": {
      "text/plain": [
       "calories_burned        3388.500000\n",
       "steps                  7298.000000\n",
       "distance                  3.450000\n",
       "floors                    6.000000\n",
       "sedentary_mins          774.000000\n",
       "lightly_active_mins     196.000000\n",
       "fairly_active_mins        9.000000\n",
       "very_active_mins         11.500000\n",
       "activity_calories      1401.500000\n",
       "active_total            240.500000\n",
       "ratio_act_sed             0.324132\n",
       "stride                    0.000471\n",
       "ratio_cal_steps           0.442387\n",
       "ratio_active_cal          0.070076\n",
       "ratio_sed_cal             0.230211\n",
       "month                     8.000000\n",
       "dtype: float64"
      ]
     },
     "execution_count": 31,
     "metadata": {},
     "output_type": "execute_result"
    }
   ],
   "source": [
    "# Means for Tuesdays\n",
    "\n",
    "df[df['weekday'] == '2 Tue'].median()"
   ]
  },
  {
   "cell_type": "code",
   "execution_count": 32,
   "metadata": {},
   "outputs": [
    {
     "data": {
      "text/plain": [
       "calories_burned        3329.500000\n",
       "steps                  7600.000000\n",
       "distance                  3.600000\n",
       "floors                    6.500000\n",
       "sedentary_mins          770.500000\n",
       "lightly_active_mins     200.000000\n",
       "fairly_active_mins        7.500000\n",
       "very_active_mins         13.500000\n",
       "activity_calories      1368.000000\n",
       "active_total            236.500000\n",
       "ratio_act_sed             0.306100\n",
       "stride                    0.000471\n",
       "ratio_cal_steps           0.405560\n",
       "ratio_active_cal          0.069940\n",
       "ratio_sed_cal             0.228370\n",
       "month                     8.000000\n",
       "dtype: float64"
      ]
     },
     "execution_count": 32,
     "metadata": {},
     "output_type": "execute_result"
    }
   ],
   "source": [
    "# Means for Wednesdays\n",
    "\n",
    "df[df['weekday'] == '3 Wed'].median()"
   ]
  },
  {
   "cell_type": "code",
   "execution_count": 33,
   "metadata": {},
   "outputs": [
    {
     "data": {
      "text/plain": [
       "calories_burned        3469.000000\n",
       "steps                  9556.500000\n",
       "distance                  4.500000\n",
       "floors                    7.000000\n",
       "sedentary_mins          759.000000\n",
       "lightly_active_mins     206.500000\n",
       "fairly_active_mins       10.000000\n",
       "very_active_mins         16.500000\n",
       "activity_calories      1673.500000\n",
       "active_total            269.000000\n",
       "ratio_act_sed             0.348294\n",
       "stride                    0.000473\n",
       "ratio_cal_steps           0.342629\n",
       "ratio_active_cal          0.073186\n",
       "ratio_sed_cal             0.223888\n",
       "month                     8.000000\n",
       "dtype: float64"
      ]
     },
     "execution_count": 33,
     "metadata": {},
     "output_type": "execute_result"
    }
   ],
   "source": [
    "# Means for Thursdays\n",
    "\n",
    "df[df['weekday'] == '4 Thu'].median()"
   ]
  },
  {
   "cell_type": "code",
   "execution_count": 34,
   "metadata": {},
   "outputs": [
    {
     "data": {
      "text/plain": [
       "calories_burned        3470.000000\n",
       "steps                  8872.000000\n",
       "distance                  4.200000\n",
       "floors                    7.000000\n",
       "sedentary_mins          759.500000\n",
       "lightly_active_mins     203.000000\n",
       "fairly_active_mins       11.500000\n",
       "very_active_mins         14.000000\n",
       "activity_calories      1623.000000\n",
       "active_total            274.000000\n",
       "ratio_act_sed             0.325513\n",
       "stride                    0.000471\n",
       "ratio_cal_steps           0.356122\n",
       "ratio_active_cal          0.073966\n",
       "ratio_sed_cal             0.216499\n",
       "month                     8.000000\n",
       "dtype: float64"
      ]
     },
     "execution_count": 34,
     "metadata": {},
     "output_type": "execute_result"
    }
   ],
   "source": [
    "# Means for Wednesdays\n",
    "\n",
    "df[df['weekday'] == '5 Fri'].median()"
   ]
  },
  {
   "cell_type": "code",
   "execution_count": 35,
   "metadata": {},
   "outputs": [
    {
     "data": {
      "text/plain": [
       "calories_burned        3421.500000\n",
       "steps                  8792.500000\n",
       "distance                  4.150000\n",
       "floors                    7.000000\n",
       "sedentary_mins          688.000000\n",
       "lightly_active_mins     205.000000\n",
       "fairly_active_mins       19.500000\n",
       "very_active_mins         20.500000\n",
       "activity_calories      1597.500000\n",
       "active_total            263.000000\n",
       "ratio_act_sed             0.375019\n",
       "stride                    0.000474\n",
       "ratio_cal_steps           0.347621\n",
       "ratio_active_cal          0.076401\n",
       "ratio_sed_cal             0.198231\n",
       "month                     8.000000\n",
       "dtype: float64"
      ]
     },
     "execution_count": 35,
     "metadata": {},
     "output_type": "execute_result"
    }
   ],
   "source": [
    "# Means for Wednesdays\n",
    "\n",
    "df[df['weekday'] == '6 Sat'].median()"
   ]
  },
  {
   "cell_type": "markdown",
   "metadata": {},
   "source": [
    "## Plots"
   ]
  },
  {
   "cell_type": "markdown",
   "metadata": {},
   "source": [
    "### Calories Burned by Month"
   ]
  },
  {
   "cell_type": "code",
   "execution_count": 36,
   "metadata": {},
   "outputs": [
    {
     "data": {
      "image/png": "[encoded data removed]",
      "text/plain": [
       "<Figure size 1296x432 with 1 Axes>"
      ]
     },
     "metadata": {
      "needs_background": "light"
     },
     "output_type": "display_data"
    }
   ],
   "source": [
    "df['calories_burned']['2018-04-27':'2018-05-26'].plot(figsize= (18,6))\n",
    "df['calories_burned']['2018-05-27':'2018-06-26'].plot()\n",
    "df['calories_burned']['2018-06-27':'2018-07-26'].plot()\n",
    "df['calories_burned']['2018-07-27':'2018-08-26'].plot()\n",
    "df['calories_burned']['2018-08-27':'2018-09-26'].plot()\n",
    "df['calories_burned']['2018-09-27':'2018-10-26'].plot()\n",
    "df['calories_burned']['2018-10-27':'2018-11-26'].plot()\n",
    "df['calories_burned']['2018-11-27':'2018-12-06'].plot()\n",
    "\n",
    "plt.xlabel('Weekday')\n",
    "plt.ylabel('Calories')\n",
    "plt.title('Calories Burned by Month')\n",
    "plt.show()"
   ]
  },
  {
   "cell_type": "markdown",
   "metadata": {},
   "source": [
    "### Average Calories Burned by Weekday\n",
    "\n",
    "- Most calores burned on Saturdays and Sundays"
   ]
  },
  {
   "cell_type": "code",
   "execution_count": 37,
   "metadata": {},
   "outputs": [
    {
     "data": {
      "text/plain": [
       "weekday\n",
       "0 Sun    3551.46875\n",
       "1 Mon    3242.75000\n",
       "2 Tue    3304.09375\n",
       "3 Wed    3270.46875\n",
       "4 Thu    3450.65625\n",
       "5 Fri    3464.71875\n",
       "6 Sat    3553.18750\n",
       "Name: calories_burned, dtype: float64"
      ]
     },
     "execution_count": 37,
     "metadata": {},
     "output_type": "execute_result"
    }
   ],
   "source": [
    "df.groupby(['weekday']).calories_burned.mean()"
   ]
  },
  {
   "cell_type": "code",
   "execution_count": 38,
   "metadata": {},
   "outputs": [
    {
     "data": {
      "image/png": "[encoded data removed]",
      "text/plain": [
       "<Figure size 1296x432 with 1 Axes>"
      ]
     },
     "metadata": {
      "needs_background": "light"
     },
     "output_type": "display_data"
    }
   ],
   "source": [
    "df.groupby(['weekday'])['calories_burned'].mean().plot(figsize = (18,6))\n",
    "\n",
    "plt.xlabel('Weekday')\n",
    "plt.ylabel('Calories')\n",
    "plt.title('Average Calories Burned by Weekday')\n",
    "plt.show()"
   ]
  },
  {
   "cell_type": "markdown",
   "metadata": {},
   "source": [
    "### Number of Steps by Day"
   ]
  },
  {
   "cell_type": "code",
   "execution_count": 39,
   "metadata": {},
   "outputs": [
    {
     "data": {
      "image/png": "[encoded data removed]",
      "text/plain": [
       "<Figure size 1296x432 with 1 Axes>"
      ]
     },
     "metadata": {
      "needs_background": "light"
     },
     "output_type": "display_data"
    }
   ],
   "source": [
    "df['steps'].plot(figsize=(18,6))\n",
    "\n",
    "plt.xlabel('By Day')\n",
    "plt.ylabel('Steps')\n",
    "plt.title('Number of Steps by Day')\n",
    "plt.show()"
   ]
  },
  {
   "cell_type": "markdown",
   "metadata": {},
   "source": [
    "## Sedentary Mins Vs. Active Mins"
   ]
  },
  {
   "cell_type": "code",
   "execution_count": 40,
   "metadata": {},
   "outputs": [
    {
     "data": {
      "text/plain": [
       "<Figure size 864x864 with 0 Axes>"
      ]
     },
     "metadata": {},
     "output_type": "display_data"
    },
    {
     "data": {
      "image/png": "[encoded data removed]",
      "text/plain": [
       "<Figure size 475.5x360 with 1 Axes>"
      ]
     },
     "metadata": {
      "needs_background": "light"
     },
     "output_type": "display_data"
    }
   ],
   "source": [
    "plt.figure(figsize = (12,12))\n",
    "sns.relplot(x='active_total', y='sedentary_mins', data=df, alpha = 1, hue = 'calories_burned', palette = 'RdBu')\n",
    "plt.title('Sedentary Minutes vs Active Minutes (1,400 minutes/day)')\n",
    "plt.show()"
   ]
  },
  {
   "cell_type": "markdown",
   "metadata": {},
   "source": [
    "## Drop Columns - Month, Weekday, and Floors for Modeling"
   ]
  },
  {
   "cell_type": "code",
   "execution_count": 41,
   "metadata": {},
   "outputs": [],
   "source": [
    "df.drop(columns=['month', 'weekday', 'floors'], inplace=True)"
   ]
  },
  {
   "cell_type": "markdown",
   "metadata": {},
   "source": [
    "### Takeaways:  Explore\n",
    "\n",
    "- "
   ]
  },
  {
   "cell_type": "markdown",
   "metadata": {},
   "source": [
    "# Impute\n",
    "\n",
    "- Use a lambda function to convert values of 0 in the steps column to Nans.\n",
    "\n",
    "- Decide on the best way to handle the missing step values in the data before going on to model using same methods to predict future values."
   ]
  },
  {
   "cell_type": "markdown",
   "metadata": {},
   "source": [
    "### Impute Median Values for Steps and Create Column rm_steps"
   ]
  },
  {
   "cell_type": "code",
   "execution_count": 42,
   "metadata": {},
   "outputs": [],
   "source": [
    "df.steps = df.steps.apply(lambda x: np.nan if x == 0 else x)"
   ]
  },
  {
   "cell_type": "code",
   "execution_count": 43,
   "metadata": {},
   "outputs": [],
   "source": [
    "df = df.assign(RollingMedian=df.steps.fillna(df.steps.rolling(14,min_periods=1,).median()))"
   ]
  },
  {
   "cell_type": "code",
   "execution_count": 44,
   "metadata": {},
   "outputs": [],
   "source": [
    "df = df.rename(columns = {'RollingMedian' : 'rm_steps'})"
   ]
  },
  {
   "cell_type": "code",
   "execution_count": 45,
   "metadata": {},
   "outputs": [
    {
     "data": {
      "image/png": "[encoded data removed]",
      "text/plain": [
       "<Figure size 432x288 with 1 Axes>"
      ]
     },
     "metadata": {
      "needs_background": "light"
     },
     "output_type": "display_data"
    }
   ],
   "source": [
    "sns.distplot(df.rm_steps)\n",
    "\n",
    "plt.title('Rolling Median for Steps')\n",
    "plt.show()"
   ]
  },
  {
   "cell_type": "markdown",
   "metadata": {},
   "source": [
    "### Impute Median Values for Distance and Create Column rm_distance"
   ]
  },
  {
   "cell_type": "code",
   "execution_count": 46,
   "metadata": {},
   "outputs": [],
   "source": [
    "df.distance = df.distance.apply(lambda x: np.nan if x == 0 else x)"
   ]
  },
  {
   "cell_type": "code",
   "execution_count": 47,
   "metadata": {},
   "outputs": [],
   "source": [
    "df = df.assign(RollingMedian=df.distance.fillna(df.distance.rolling(14,min_periods=1,).median()))"
   ]
  },
  {
   "cell_type": "code",
   "execution_count": 48,
   "metadata": {},
   "outputs": [],
   "source": [
    "df = df.rename(columns = {'RollingMedian' : 'rm_distance'})"
   ]
  },
  {
   "cell_type": "code",
   "execution_count": 49,
   "metadata": {},
   "outputs": [
    {
     "data": {
      "image/png": "[encoded data removed]",
      "text/plain": [
       "<Figure size 432x288 with 1 Axes>"
      ]
     },
     "metadata": {
      "needs_background": "light"
     },
     "output_type": "display_data"
    }
   ],
   "source": [
    "sns.distplot(df.rm_distance)\n",
    "\n",
    "plt.title('Rolling Median for Distance')\n",
    "plt.show()"
   ]
  },
  {
   "cell_type": "markdown",
   "metadata": {},
   "source": [
    "## Calculate Rolling Mean"
   ]
  },
  {
   "cell_type": "code",
   "execution_count": 54,
   "metadata": {},
   "outputs": [],
   "source": [
    "df = df.assign(steps_14_day_mean=df.steps.fillna(df.steps.rolling(14,min_periods=1,).mean()))"
   ]
  },
  {
   "cell_type": "code",
   "execution_count": 55,
   "metadata": {},
   "outputs": [],
   "source": [
    "#df['steps_14_day_mean'] = df['steps'].rolling(window=14).mean()"
   ]
  },
  {
   "cell_type": "code",
   "execution_count": 57,
   "metadata": {},
   "outputs": [
    {
     "data": {
      "image/png": "[encoded data removed]",
      "text/plain": [
       "<Figure size 864x360 with 1 Axes>"
      ]
     },
     "metadata": {
      "needs_background": "light"
     },
     "output_type": "display_data"
    }
   ],
   "source": [
    "df['steps'].plot(figsize=(12,5))\n",
    "df['steps_14_day_mean'].plot(style=':')\n",
    "\n",
    "plt.title('Steps with Rolling Mean')\n",
    "plt.ylabel('Steps')\n",
    "plt.legend()\n",
    "plt.show()"
   ]
  },
  {
   "cell_type": "code",
   "execution_count": 58,
   "metadata": {},
   "outputs": [
    {
     "data": {
      "text/plain": [
       "0"
      ]
     },
     "execution_count": 58,
     "metadata": {},
     "output_type": "execute_result"
    }
   ],
   "source": [
    "df['steps_14_day_mean'].isnull().sum()"
   ]
  },
  {
   "cell_type": "code",
   "execution_count": 59,
   "metadata": {},
   "outputs": [
    {
     "data": {
      "image/png": "[encoded data removed]",
      "text/plain": [
       "<Figure size 432x288 with 1 Axes>"
      ]
     },
     "metadata": {
      "needs_background": "light"
     },
     "output_type": "display_data"
    }
   ],
   "source": [
    "sns.distplot(df.steps_14_day_mean)\n",
    "\n",
    "plt.title('Rolling Mean for Distance')\n",
    "plt.show()"
   ]
  },
  {
   "cell_type": "markdown",
   "metadata": {},
   "source": [
    "## Expanding Steps"
   ]
  },
  {
   "cell_type": "code",
   "execution_count": null,
   "metadata": {},
   "outputs": [],
   "source": [
    "df['steps_14_day_expand'] = df['steps'].expanding(min_periods=14).mean()"
   ]
  },
  {
   "cell_type": "code",
   "execution_count": null,
   "metadata": {},
   "outputs": [],
   "source": [
    "df[['steps', 'steps_14_day_expand', 'steps_7_day_mean']].expanding(min_periods=14).mean().plot(figsize=(12,5))\n",
    "\n",
    "plt.show()"
   ]
  },
  {
   "cell_type": "markdown",
   "metadata": {},
   "source": [
    "## Simple Moving Average (SMA)\n",
    "\n",
    "- Create rolling_median Column\n",
    "\n",
    "- Create a column called 'rolling_median' that contains the original values for 'steps' and imputed values of the median for steps where there are NaNs.\n",
    "\n",
    "- This method can be skewed by more extreme historical values."
   ]
  },
  {
   "cell_type": "code",
   "execution_count": null,
   "metadata": {},
   "outputs": [],
   "source": [
    "df = df.assign(rolling_median=df.steps.fillna(df.steps.rolling(14,min_periods=1,).median()))"
   ]
  },
  {
   "cell_type": "code",
   "execution_count": null,
   "metadata": {},
   "outputs": [],
   "source": [
    "df.head(10)"
   ]
  },
  {
   "cell_type": "markdown",
   "metadata": {},
   "source": [
    "## ETS Decomposition\n",
    "\n",
    "- Error-Trend-Decomposition\n",
    "\n",
    "- It looks like there is a lot of noise between August and September.\n",
    "\n",
    "- It is easy to see the seasonality present.\n",
    "\n",
    "- The trend is upward for the most part."
   ]
  },
  {
   "cell_type": "code",
   "execution_count": null,
   "metadata": {},
   "outputs": [],
   "source": [
    "result = seasonal_decompose(df['rolling_median'], model='additive')"
   ]
  },
  {
   "cell_type": "code",
   "execution_count": null,
   "metadata": {},
   "outputs": [],
   "source": [
    "rcParams['figure.figsize']=(12,5)\n",
    "\n",
    "result.plot()\n",
    "\n",
    "plt.show()"
   ]
  },
  {
   "cell_type": "markdown",
   "metadata": {},
   "source": [
    "## Exponentially Weighted Moving Average (EWMA)\n",
    "\n",
    "- This allows the more recent data to be weighted more than the older data\n",
    "\n",
    "- This might help reduce the noise in the data\n",
    "\n",
    "- This could help us make better predictions and avoid problems with historical data issues."
   ]
  },
  {
   "cell_type": "code",
   "execution_count": null,
   "metadata": {},
   "outputs": [],
   "source": [
    "df['EWMA_14'] = df['steps'].ewm(span=14).mean()"
   ]
  },
  {
   "cell_type": "code",
   "execution_count": null,
   "metadata": {},
   "outputs": [],
   "source": [
    "df[['rolling_median', 'steps', 'EWMA_14']].plot(style=[':', '--', '-'])\n",
    "\n",
    "plt.title('Steps Imputing Method Comparison')\n",
    "plt.ylabel('Steps')\n",
    "plt.show()"
   ]
  },
  {
   "cell_type": "markdown",
   "metadata": {},
   "source": [
    "## Comparison of All Impute Methods"
   ]
  },
  {
   "cell_type": "code",
   "execution_count": null,
   "metadata": {},
   "outputs": [],
   "source": [
    "df[['steps', 'rm_steps', 'steps_14_day_expand', 'steps_14_day_mean', 'EWMA_14']].expanding(min_periods=14).mean().plot(style=['-', '--', ':', ':', '--'])\n",
    "\n",
    "plt.ylabel('Steps')\n",
    "plt.title('Comparison of Imputation Methods for Steps')\n",
    "plt.show()"
   ]
  },
  {
   "cell_type": "markdown",
   "metadata": {},
   "source": [
    "### Takeaways: Impute\n",
    "\n",
    "- "
   ]
  },
  {
   "cell_type": "markdown",
   "metadata": {},
   "source": [
    "# Correlation with Steps"
   ]
  },
  {
   "cell_type": "markdown",
   "metadata": {},
   "source": [
    "## Increase in Steps by Month"
   ]
  },
  {
   "cell_type": "code",
   "execution_count": null,
   "metadata": {},
   "outputs": [],
   "source": [
    "df['rm_steps'].resample('M').mean().plot.bar(figsize=(12,8))\n",
    "\n",
    "plt.xlabel('Month')\n",
    "plt.ylabel('Steps')\n",
    "plt.title('Steps by Month')\n",
    "plt.show()"
   ]
  },
  {
   "cell_type": "markdown",
   "metadata": {},
   "source": [
    "## Steps and Calories Burned\n",
    "\n",
    "- Sedentary mins looks negatively correlated with calories burned.\n",
    "\n",
    "- Lightly active looks correlated with calories burned more than either very or fairly active."
   ]
  },
  {
   "cell_type": "code",
   "execution_count": null,
   "metadata": {},
   "outputs": [],
   "source": [
    "df[['sedentary_mins', 'very_active_mins', 'fairly_active_mins', 'lightly_active_mins', 'calories_burned']].plot()\n",
    "\n",
    "plt.legend(bbox_to_anchor=(1.1, 1.05))\n",
    "plt.title('Correlations with Calories Burned')\n",
    "plt.ylabel('Calories and Minutes')\n",
    "plt.show()"
   ]
  },
  {
   "cell_type": "code",
   "execution_count": null,
   "metadata": {},
   "outputs": [],
   "source": [
    "df.isnull().sum()"
   ]
  },
  {
   "cell_type": "code",
   "execution_count": null,
   "metadata": {},
   "outputs": [],
   "source": [
    "df.sort_values(by='rolling_median')"
   ]
  },
  {
   "cell_type": "markdown",
   "metadata": {},
   "source": [
    "## Steps and Trend\n",
    "\n",
    "- using Hodrick-Prescott filter to find the cycle and trend of steps\n",
    "\n",
    "- here you can see where the actual steps are above or below the trend"
   ]
  },
  {
   "cell_type": "code",
   "execution_count": null,
   "metadata": {},
   "outputs": [],
   "source": [
    "steps_cycle, steps_trend = hpfilter(df['rolling_median'], lamb=600)"
   ]
  },
  {
   "cell_type": "code",
   "execution_count": null,
   "metadata": {},
   "outputs": [],
   "source": [
    "df['steps_trend'] = steps_trend"
   ]
  },
  {
   "cell_type": "code",
   "execution_count": null,
   "metadata": {},
   "outputs": [],
   "source": [
    "df[['steps_trend', 'rolling_median']].plot(figsize=(12,5))\n",
    "\n",
    "plt.title('Steps and Steps Trend')\n",
    "plt.ylabel('Steps')\n",
    "plt.show()"
   ]
  },
  {
   "cell_type": "markdown",
   "metadata": {},
   "source": [
    "## Percent Difference from First to Last Day\n",
    "\n",
    "- There was a 48% increase in steps and distance from the first to the last day in the data set.\n",
    "\n",
    "- There was a 358% increase in very_active_mins!\n",
    "\n",
    "- There was a 77% increase in the ration_act_sed."
   ]
  },
  {
   "cell_type": "code",
   "execution_count": null,
   "metadata": {},
   "outputs": [],
   "source": [
    "100 * (df.loc['2018-12-6'] - df.loc['2018-04-27'])/ df.loc['2018-04-27']"
   ]
  },
  {
   "cell_type": "markdown",
   "metadata": {},
   "source": [
    "### Correlation: Takeaways\n",
    "\n",
    "- "
   ]
  },
  {
   "cell_type": "markdown",
   "metadata": {},
   "source": [
    "# Split Train and Test\n",
    "\n",
    "- We want our test set to be about 20% of of our data set or at least as large as the future prediction we would like to make.\n",
    "\n",
    "- We want our test set to be at least 2 weeks, since we want to forecast 2 weeks into the future past 2018-12-06.\n",
    "\n",
    "- train (210, 2)\n",
    "\n",
    "- test (14, 2)"
   ]
  },
  {
   "cell_type": "code",
   "execution_count": null,
   "metadata": {},
   "outputs": [],
   "source": [
    "target_vars = ['rolling_median', 'calories_burned']\n",
    "df = df.resample('D')[target_vars].sum()"
   ]
  },
  {
   "cell_type": "code",
   "execution_count": null,
   "metadata": {},
   "outputs": [],
   "source": [
    "train = df.loc[:'2018-11-22']\n",
    "test = df.loc['2018-11-23':]"
   ]
  },
  {
   "cell_type": "code",
   "execution_count": null,
   "metadata": {},
   "outputs": [],
   "source": [
    "yhat = pd.DataFrame(test[target_vars])"
   ]
  },
  {
   "cell_type": "code",
   "execution_count": null,
   "metadata": {},
   "outputs": [],
   "source": [
    "for var in target_vars:\n",
    "    yhat[var] = int(train[var][-1:])"
   ]
  },
  {
   "cell_type": "code",
   "execution_count": null,
   "metadata": {},
   "outputs": [],
   "source": [
    "yhat.head()"
   ]
  },
  {
   "cell_type": "code",
   "execution_count": null,
   "metadata": {},
   "outputs": [],
   "source": [
    "train.shape"
   ]
  },
  {
   "cell_type": "code",
   "execution_count": null,
   "metadata": {},
   "outputs": [],
   "source": [
    "test.shape"
   ]
  },
  {
   "cell_type": "code",
   "execution_count": null,
   "metadata": {},
   "outputs": [],
   "source": [
    "print('Observations: %d' % (len(df)))\n",
    "print('Training Observations: %d' % (len(train)))\n",
    "print('Testing Observations: %d' % (len(test)))"
   ]
  },
  {
   "cell_type": "code",
   "execution_count": null,
   "metadata": {},
   "outputs": [],
   "source": [
    "train.head(1), test.head(1)"
   ]
  },
  {
   "cell_type": "code",
   "execution_count": null,
   "metadata": {},
   "outputs": [],
   "source": [
    "# validate train test split\n",
    "\n",
    "for var in range(len(target_vars)):\n",
    "    plt.figure(figsize=(12, 6))\n",
    "    plt.plot(train[target_vars[var]])\n",
    "    plt.plot(test[target_vars[var]])\n",
    "    #plt.legend()\n",
    "    plt.show()"
   ]
  },
  {
   "cell_type": "markdown",
   "metadata": {},
   "source": [
    "# Model"
   ]
  },
  {
   "cell_type": "markdown",
   "metadata": {},
   "source": [
    "## Basline: Last Observed Value\n",
    "\n",
    "- Get a baseline model using this simple forecasting method.\n",
    "\n",
    "- Predict all future values to be the last observed value."
   ]
  },
  {
   "cell_type": "code",
   "execution_count": null,
   "metadata": {},
   "outputs": [],
   "source": [
    "def evaluate(target_var, train, test, output=True):\n",
    "    mse = metrics.mean_squared_error(test[target_var], yhat[target_var])\n",
    "    rmse = math.sqrt(mse)\n",
    "\n",
    "    if output:\n",
    "        print('MSE:  {}'.format(mse))\n",
    "        print('RMSE: {}'.format(rmse))\n",
    "    else:\n",
    "        return mse, rmse"
   ]
  },
  {
   "cell_type": "code",
   "execution_count": null,
   "metadata": {},
   "outputs": [],
   "source": [
    "evaluate(target_var=target_vars, train=train, test=test, output=True)"
   ]
  },
  {
   "cell_type": "code",
   "execution_count": null,
   "metadata": {},
   "outputs": [],
   "source": [
    "def plot_and_eval(target_vars, train, test, metric_fmt = '{:.2f}', linewidth = 4):\n",
    "    if type(target_vars) is not list:\n",
    "        target_vars = [target_vars]\n",
    "\n",
    "    plt.figure(figsize=(16, 8))\n",
    "    plt.plot(train[target_vars],label='Train', linewidth=1)\n",
    "    plt.plot(test[target_vars], label='Test', linewidth=1)\n",
    "\n",
    "    for var in target_vars:\n",
    "        mse, rmse = evaluate(target_var = var, train = train, test = test, output=False)\n",
    "        plt.plot(yhat[var], linewidth=linewidth)\n",
    "        print(f'{var} -- MSE: {metric_fmt} RMSE: {metric_fmt}'.format(mse, rmse))\n",
    "\n",
    "    plt.show()"
   ]
  },
  {
   "cell_type": "code",
   "execution_count": null,
   "metadata": {},
   "outputs": [],
   "source": [
    "plot_and_eval(target_vars=target_vars, train = train, test = test)"
   ]
  },
  {
   "cell_type": "markdown",
   "metadata": {},
   "source": [
    "## Holt Winters Model"
   ]
  },
  {
   "cell_type": "code",
   "execution_count": null,
   "metadata": {},
   "outputs": [],
   "source": [
    "from statsmodels.tsa.holtwinters import ExponentialSmoothing"
   ]
  },
  {
   "cell_type": "code",
   "execution_count": null,
   "metadata": {},
   "outputs": [],
   "source": [
    "fitted_model = ExponentialSmoothing(train['rolling_median'],\n",
    "                                   trend='add', seasonal='add',\n",
    "                                   seasonal_periods=)"
   ]
  },
  {
   "cell_type": "code",
   "execution_count": null,
   "metadata": {},
   "outputs": [],
   "source": []
  },
  {
   "cell_type": "code",
   "execution_count": null,
   "metadata": {},
   "outputs": [],
   "source": []
  },
  {
   "cell_type": "markdown",
   "metadata": {},
   "source": [
    "### Takeaways: Model\n",
    "\n",
    "- "
   ]
  },
  {
   "cell_type": "markdown",
   "metadata": {},
   "source": [
    "# Forecast"
   ]
  },
  {
   "cell_type": "code",
   "execution_count": null,
   "metadata": {},
   "outputs": [],
   "source": []
  },
  {
   "cell_type": "markdown",
   "metadata": {},
   "source": [
    "# Final Takeaways\n",
    "\n",
    "- Faith:\n",
    "\n",
    "\n",
    "- Sean:"
   ]
  },
  {
   "cell_type": "code",
   "execution_count": null,
   "metadata": {},
   "outputs": [],
   "source": []
  },
  {
   "cell_type": "code",
   "execution_count": null,
   "metadata": {},
   "outputs": [],
   "source": []
  }
 ],
 "metadata": {
  "kernelspec": {
   "display_name": "Python 3",
   "language": "python",
   "name": "python3"
  },
  "language_info": {
   "codemirror_mode": {
    "name": "ipython",
    "version": 3
   },
   "file_extension": ".py",
   "mimetype": "text/x-python",
   "name": "python",
   "nbconvert_exporter": "python",
   "pygments_lexer": "ipython3",
   "version": "3.7.3"
  },
  "toc": {
   "base_numbering": 1,
   "nav_menu": {},
   "number_sections": true,
   "sideBar": true,
   "skip_h1_title": false,
   "title_cell": "Table of Contents",
   "title_sidebar": "Contents",
   "toc_cell": false,
   "toc_position": {},
   "toc_section_display": true,
   "toc_window_display": true
  }
 },
 "nbformat": 4,
 "nbformat_minor": 2
}
